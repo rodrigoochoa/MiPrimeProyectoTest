{
 "cells": [
  {
   "cell_type": "markdown",
   "metadata": {},
   "source": [
    "### Presentación"
   ]
  },
  {
   "cell_type": "markdown",
   "metadata": {},
   "source": [
    "- **Nombre:** Rodrigo Ochoa Arámbula\n",
    "- Profesión: <font color = red> Estudiante Ing Civil </font>\n",
    "- Edad: 21 Años\n",
    "- Pasatiempos: Películas, Comer, Dormir, Escalar.\n",
    "- Educación: Instituto de Ciencias - ITESO"
   ]
  },
  {
   "cell_type": "markdown",
   "metadata": {},
   "source": [
    "foto:\n",
    "    <img src=\"http://static.t13.cl/images/sizes/1200x675/1458661574-imagen-ramon8.jpg\" width=\"150px\" height=\"50px\" />"
   ]
  },
  {
   "cell_type": "markdown",
   "metadata": {},
   "source": [
    "hola"
   ]
  },
  {
   "cell_type": "code",
   "execution_count": null,
   "metadata": {},
   "outputs": [],
   "source": []
  }
 ],
 "metadata": {
  "kernelspec": {
   "display_name": "Python 3",
   "language": "python",
   "name": "python3"
  },
  "language_info": {
   "codemirror_mode": {
    "name": "ipython",
    "version": 3
   },
   "file_extension": ".py",
   "mimetype": "text/x-python",
   "name": "python",
   "nbconvert_exporter": "python",
   "pygments_lexer": "ipython3",
   "version": "3.6.5"
  }
 },
 "nbformat": 4,
 "nbformat_minor": 2
}
